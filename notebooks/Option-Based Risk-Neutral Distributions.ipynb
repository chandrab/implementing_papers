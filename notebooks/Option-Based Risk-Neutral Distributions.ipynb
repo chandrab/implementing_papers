{
 "cells": [
  {
   "cell_type": "markdown",
   "metadata": {},
   "source": [
    "# \"A Simple and Reliable Way to Compute Option-Based Risk-Neutral Distributions\"\n",
    "\n",
    "## https://www.newyorkfed.org/medialibrary/media/research/staff_reports/sr677.pdf\n",
    "\n",
    "Implementing the methodology described for exchange traded products"
   ]
  },
  {
   "cell_type": "markdown",
   "metadata": {},
   "source": [
    "---"
   ]
  },
  {
   "cell_type": "markdown",
   "metadata": {},
   "source": [
    "## Import external libraries"
   ]
  },
  {
   "cell_type": "code",
   "execution_count": 132,
   "metadata": {
    "collapsed": true
   },
   "outputs": [],
   "source": [
    "import pandas as pd\n",
    "import numpy as np\n",
    "from scipy.interpolate import CubicSpline\n",
    "from scipy.stats import norm\n",
    "import matplotlib.pyplot as plt\n",
    "%matplotlib inline"
   ]
  },
  {
   "cell_type": "markdown",
   "metadata": {},
   "source": [
    "## Example volatility data (page 13 of paper)"
   ]
  },
  {
   "cell_type": "code",
   "execution_count": 162,
   "metadata": {},
   "outputs": [],
   "source": [
    "lst = [\n",
    "    [80.0, 23.95],\n",
    "    [90.0, 21.71],\n",
    "    [95.0, 18.81],\n",
    "    [97.5, 17.40],\n",
    "    [100.0, 16.09],\n",
    "    [102.5, 14.88],\n",
    "    [105.0, 13.84],\n",
    "    [110.0, 12.48],\n",
    "    [120.0, 12.34],\n",
    "]\n",
    "\n",
    "df = pd.DataFrame(lst, columns=['moneyness', 'implied_vol']).set_index('moneyness')\n",
    "rg = np.linspace(70, 130, 100) # range for interpolation"
   ]
  },
  {
   "cell_type": "markdown",
   "metadata": {},
   "source": [
    "## Intialising clamped CubicSpline function\n",
    "\n",
    "clamped_cubic is a wrapper on CubicSpline in order to allow for flat extrapolation beyond the two end knots."
   ]
  },
  {
   "cell_type": "code",
   "execution_count": 163,
   "metadata": {},
   "outputs": [],
   "source": [
    "f = CubicSpline(df.index, df['implied_vol'], bc_type='clamped')\n",
    "\n",
    "def clamped_cubic(X, boundary=(None, None)):\n",
    "    \"\"\"\n",
    "    Adjusts scipy's CubicSpline method to provide flat extrapolation.\n",
    "    \n",
    "    Parameters\n",
    "    ----------\n",
    "    X = list of interpolation points\n",
    "    boundary = tuple of lower and upper values for flat extrapolation\n",
    "    \"\"\"\n",
    "    \n",
    "    lower, upper = boundary\n",
    "    f = CubicSpline(df.index, df['implied_vol'], bc_type='clamped')\n",
    "    res = []\n",
    "    for x in X:\n",
    "        if x < lower:\n",
    "            res.append(f(lower))\n",
    "        elif x > upper:\n",
    "            res.append(f(upper))\n",
    "        else:\n",
    "            res.append(f(x))\n",
    "    return res"
   ]
  },
  {
   "cell_type": "markdown",
   "metadata": {},
   "source": [
    "## Plot interpolated / extrapolated volatility smile"
   ]
  },
  {
   "cell_type": "code",
   "execution_count": 164,
   "metadata": {},
   "outputs": [
    {
     "name": "stdout",
     "output_type": "stream",
     "text": [
      "Wall time: 78.2 ms\n"
     ]
    },
    {
     "data": {
      "image/png": "[encoded data removed]",
      "text/plain": [
       "<matplotlib.figure.Figure at 0x1f78393f470>"
      ]
     },
     "metadata": {},
     "output_type": "display_data"
    }
   ],
   "source": [
    "%%time\n",
    "plt.figure(figsize=(12, 8))\n",
    "plt.plot(rg, clamped_cubic(rg, boundary=(df.index[0], df.index[-1])), color='darkred', label='spline')\n",
    "plt.plot(df.index, df['implied_vol'], color='b', marker='o', linestyle=\"\", markersize=10)\n",
    "plt.title('Clamped Cubic Spline with Flat Extrapolation', fontweight='bold', fontsize='18')\n",
    "plt.ylabel('Implied Volatility (%)')\n",
    "plt.xlabel('Moneyness (%)')\n",
    "plt.tight_layout();"
   ]
  },
  {
   "cell_type": "markdown",
   "metadata": {},
   "source": [
    "## Implementation of Black-Scholes European Call pricing function"
   ]
  },
  {
   "cell_type": "code",
   "execution_count": 165,
   "metadata": {
    "collapsed": true
   },
   "outputs": [],
   "source": [
    "def bs_call(K,T,r,d,v):\n",
    "    \"\"\"\n",
    "    Black-Scholes Call Price.\n",
    "    \n",
    "    Parameters:\n",
    "    K = strike moneyness percent (80% = 80)\n",
    "    T = years to maturity\n",
    "    r = annualised continuously compounded risk-free rate with tenor T\n",
    "    d = annualised continuously compounded dividend yield over tenot T\n",
    "    v = implied volatility\n",
    "    \"\"\"\n",
    "    \n",
    "    S=100\n",
    "    d1 = (np.log(float(S)/K)+((r-d)+v*v/2.)*T)/(v*np.sqrt(T))\n",
    "    d2 = d1-v*np.sqrt(T)\n",
    "    \n",
    "    return S*np.exp(-d*T)*norm.cdf(d1)-K*np.exp(-r*T)*norm.cdf(d2)"
   ]
  },
  {
   "cell_type": "markdown",
   "metadata": {},
   "source": [
    "## Example parameters to create call prices from volatily smile"
   ]
  },
  {
   "cell_type": "code",
   "execution_count": 166,
   "metadata": {
    "collapsed": true
   },
   "outputs": [],
   "source": [
    "T = 0.25\n",
    "r = 0.00058\n",
    "d = 0.02306"
   ]
  },
  {
   "cell_type": "code",
   "execution_count": null,
   "metadata": {
    "collapsed": true
   },
   "outputs": [],
   "source": []
  }
 ],
 "metadata": {
  "kernelspec": {
   "display_name": "Python 3",
   "language": "python",
   "name": "python3"
  },
  "language_info": {
   "codemirror_mode": {
    "name": "ipython",
    "version": 3
   },
   "file_extension": ".py",
   "mimetype": "text/x-python",
   "name": "python",
   "nbconvert_exporter": "python",
   "pygments_lexer": "ipython3",
   "version": "3.6.2"
  }
 },
 "nbformat": 4,
 "nbformat_minor": 2
}
